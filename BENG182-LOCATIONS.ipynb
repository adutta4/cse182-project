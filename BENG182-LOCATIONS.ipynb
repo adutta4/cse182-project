{
 "cells": [
  {
   "cell_type": "code",
   "execution_count": 1,
   "id": "d571e8f2",
   "metadata": {
    "ExecuteTime": {
     "end_time": "2024-06-04T21:55:57.726529Z",
     "start_time": "2024-06-04T21:55:53.166132Z"
    }
   },
   "outputs": [],
   "source": [
    "import pandas as pd\n",
    "import numpy as np \n",
    "import os \n",
    "import matplotlib.pyplot as plt\n",
    "import shutil\n",
    "import ast"
   ]
  },
  {
   "cell_type": "markdown",
   "id": "bbd7cce6",
   "metadata": {},
   "source": [
    "Preprocessing\n",
    "==="
   ]
  },
  {
   "cell_type": "code",
   "execution_count": 2,
   "id": "6116ce06",
   "metadata": {
    "ExecuteTime": {
     "end_time": "2024-06-04T21:55:57.964163Z",
     "start_time": "2024-06-04T21:55:57.729326Z"
    }
   },
   "outputs": [],
   "source": [
    "directory_path = r\".\\data\\AA_CCLE_hg38_aggregated_050323\\AA_CCLE_hg38_aggregated_050323\\AA_outputs\"\n",
    "output_path = r\".\\data\\AA_CCLE_hg38_aggregated_050323/BREAST\"\n",
    "def move_bed_files(directory_path, output_path, cancertype):\n",
    "    os.makedirs(output_path, exist_ok=True)\n",
    "    for directory in os.listdir(directory_path):\n",
    "        if cancertype in directory:\n",
    "            sample_path = os.path.join(directory_path, directory)\n",
    "            for sample in os.listdir(sample_path):\n",
    "                if \".bed\" in sample:\n",
    "                    shutil.copy(os.path.join(sample_path, sample), os.path.join(output_path, sample))\n",
    "move_bed_files(directory_path, output_path, \"BREAST\")                   "
   ]
  },
  {
   "cell_type": "code",
   "execution_count": 3,
   "id": "1153631b",
   "metadata": {
    "ExecuteTime": {
     "end_time": "2024-06-04T21:55:58.166968Z",
     "start_time": "2024-06-04T21:55:57.966168Z"
    }
   },
   "outputs": [
    {
     "name": "stderr",
     "output_type": "stream",
     "text": [
      "C:\\Users\\albao\\AppData\\Local\\Temp\\ipykernel_28848\\3998793960.py:6: FutureWarning: The behavior of DataFrame concatenation with empty or all-NA entries is deprecated. In a future version, this will no longer exclude empty or all-NA columns when determining the result dtypes. To retain the old behavior, exclude the relevant entries before the concat operation.\n",
      "  locations = pd.concat([locations, temp])\n",
      "C:\\Users\\albao\\AppData\\Local\\Temp\\ipykernel_28848\\3998793960.py:6: FutureWarning: The behavior of DataFrame concatenation with empty or all-NA entries is deprecated. In a future version, this will no longer exclude empty or all-NA columns when determining the result dtypes. To retain the old behavior, exclude the relevant entries before the concat operation.\n",
      "  locations = pd.concat([locations, temp])\n",
      "C:\\Users\\albao\\AppData\\Local\\Temp\\ipykernel_28848\\3998793960.py:6: FutureWarning: The behavior of DataFrame concatenation with empty or all-NA entries is deprecated. In a future version, this will no longer exclude empty or all-NA columns when determining the result dtypes. To retain the old behavior, exclude the relevant entries before the concat operation.\n",
      "  locations = pd.concat([locations, temp])\n"
     ]
    },
    {
     "data": {
      "text/plain": "  chromosome      start        end      stat  \\\n0       chr3   37936027   38301037  4.696643   \n1       chr7  114216157  115016148  7.312990   \n\n                                          cycle_file  \n0  /expanse/lustre/projects/csd714/edwin5588/CCLE...  \n1  /expanse/lustre/projects/csd714/edwin5588/CCLE...  ",
      "text/html": "<div>\n<style scoped>\n    .dataframe tbody tr th:only-of-type {\n        vertical-align: middle;\n    }\n\n    .dataframe tbody tr th {\n        vertical-align: top;\n    }\n\n    .dataframe thead th {\n        text-align: right;\n    }\n</style>\n<table border=\"1\" class=\"dataframe\">\n  <thead>\n    <tr style=\"text-align: right;\">\n      <th></th>\n      <th>chromosome</th>\n      <th>start</th>\n      <th>end</th>\n      <th>stat</th>\n      <th>cycle_file</th>\n    </tr>\n  </thead>\n  <tbody>\n    <tr>\n      <th>0</th>\n      <td>chr3</td>\n      <td>37936027</td>\n      <td>38301037</td>\n      <td>4.696643</td>\n      <td>/expanse/lustre/projects/csd714/edwin5588/CCLE...</td>\n    </tr>\n    <tr>\n      <th>1</th>\n      <td>chr7</td>\n      <td>114216157</td>\n      <td>115016148</td>\n      <td>7.312990</td>\n      <td>/expanse/lustre/projects/csd714/edwin5588/CCLE...</td>\n    </tr>\n  </tbody>\n</table>\n</div>"
     },
     "execution_count": 3,
     "metadata": {},
     "output_type": "execute_result"
    }
   ],
   "source": [
    "# obtain the different types:\n",
    "locations = pd.DataFrame()\n",
    "for file in os.listdir(output_path):\n",
    "    try:\n",
    "        temp = pd.read_csv(os.path.join(output_path, file), sep = \"\\t\", names = ['chromosome', 'start', 'end', 'stat', 'cycle_file'])\n",
    "        locations = pd.concat([locations, temp])\n",
    "    except Exception as e:\n",
    "        print(e)\n",
    "locations.head(2)"
   ]
  },
  {
   "cell_type": "code",
   "execution_count": 4,
   "id": "249bf726",
   "metadata": {
    "ExecuteTime": {
     "end_time": "2024-06-04T21:56:06.221433Z",
     "start_time": "2024-06-04T21:56:06.150223Z"
    }
   },
   "outputs": [
    {
     "data": {
      "text/plain": "     Sample name Classification  \\\n23  AU565_BREAST          ecDNA   \n24  AU565_BREAST          ecDNA   \n\n                                            All genes  \\\n23  ['ACAA1', 'DLEC1', 'MYD88', 'OXSR1', 'PLCD1', ...   \n24  ['ANXA13', 'ATAD2', 'C8orf76', 'C8orf89', 'CAL...   \n\n                                             Location  \\\n23                         ['chr3:37937674-38298744']   \n24  ['chr8:71754758-71754831', 'chr8:71755523-7287...   \n\n                   Oncogenes  Captured interval length  \n23                 ['MYD88']                  361070.0  \n24  ['HEY1', 'MYC', 'TPD52']                23353056.0  ",
      "text/html": "<div>\n<style scoped>\n    .dataframe tbody tr th:only-of-type {\n        vertical-align: middle;\n    }\n\n    .dataframe tbody tr th {\n        vertical-align: top;\n    }\n\n    .dataframe thead th {\n        text-align: right;\n    }\n</style>\n<table border=\"1\" class=\"dataframe\">\n  <thead>\n    <tr style=\"text-align: right;\">\n      <th></th>\n      <th>Sample name</th>\n      <th>Classification</th>\n      <th>All genes</th>\n      <th>Location</th>\n      <th>Oncogenes</th>\n      <th>Captured interval length</th>\n    </tr>\n  </thead>\n  <tbody>\n    <tr>\n      <th>23</th>\n      <td>AU565_BREAST</td>\n      <td>ecDNA</td>\n      <td>['ACAA1', 'DLEC1', 'MYD88', 'OXSR1', 'PLCD1', ...</td>\n      <td>['chr3:37937674-38298744']</td>\n      <td>['MYD88']</td>\n      <td>361070.0</td>\n    </tr>\n    <tr>\n      <th>24</th>\n      <td>AU565_BREAST</td>\n      <td>ecDNA</td>\n      <td>['ANXA13', 'ATAD2', 'C8orf76', 'C8orf89', 'CAL...</td>\n      <td>['chr8:71754758-71754831', 'chr8:71755523-7287...</td>\n      <td>['HEY1', 'MYC', 'TPD52']</td>\n      <td>23353056.0</td>\n    </tr>\n  </tbody>\n</table>\n</div>"
     },
     "execution_count": 4,
     "metadata": {},
     "output_type": "execute_result"
    }
   ],
   "source": [
    "aggregated = pd.read_csv(r\".\\data\\AA_CCLE_hg38_aggregated_050323\\AA_CCLE_hg38_aggregated_050323\\aggregated_results.csv\")\n",
    "aggregated = aggregated[['Sample name', 'Classification', 'All genes', \"Location\", \"Oncogenes\", \"Captured interval length\"]]\n",
    "brCan = aggregated[aggregated['Sample name'].str.contains('BREAST')]\n",
    "\n",
    "#drop rows with NaN in 'Classification' column\n",
    "brCan = brCan.dropna(subset=['Classification'])\n",
    "\n",
    "#filter for ecDNA classifications\n",
    "brCan = brCan[brCan['Classification'].str.contains('ecDNA')]\n",
    "brCan.head(2)"
   ]
  },
  {
   "cell_type": "code",
   "execution_count": 5,
   "id": "df3b04a2",
   "metadata": {
    "ExecuteTime": {
     "end_time": "2024-06-04T21:56:10.050732Z",
     "start_time": "2024-06-04T21:56:10.021542Z"
    }
   },
   "outputs": [
    {
     "name": "stdout",
     "output_type": "stream",
     "text": [
      "84\n",
      "1306\n"
     ]
    },
    {
     "data": {
      "text/plain": "84"
     },
     "execution_count": 5,
     "metadata": {},
     "output_type": "execute_result"
    }
   ],
   "source": [
    "# obtain set of all oncogenes and genes\n",
    "oncogenes = set()\n",
    "for og_str in np.array(brCan[\"Oncogenes\"]):\n",
    "    if og_str != '[]': \n",
    "        oncogenes.update(ast.literal_eval(og_str))\n",
    "print(len(oncogenes))\n",
    "\n",
    "all_genes = set()\n",
    "for og_str in np.array(brCan[\"All genes\"]):\n",
    "    if og_str != '[]':\n",
    "        all_genes.update(ast.literal_eval(og_str))\n",
    "print(len(all_genes))\n",
    "\n",
    "# oncogenes included within the all genes (sanity check)\n",
    "elements = all_genes.intersection(oncogenes)\n",
    "len(elements)"
   ]
  },
  {
   "cell_type": "markdown",
   "id": "85eb4d08",
   "metadata": {},
   "source": [
    "Obtaining all potential locations\n",
    "==="
   ]
  },
  {
   "cell_type": "code",
   "execution_count": 8,
   "id": "dcab28ad",
   "metadata": {
    "ExecuteTime": {
     "end_time": "2024-06-04T21:57:31.493304Z",
     "start_time": "2024-06-04T21:57:31.250806Z"
    }
   },
   "outputs": [
    {
     "name": "stderr",
     "output_type": "stream",
     "text": [
      "C:\\Users\\albao\\AppData\\Local\\Temp\\ipykernel_28848\\3918542013.py:18: DeprecationWarning: DataFrameGroupBy.apply operated on the grouping columns. This behavior is deprecated, and in a future version of pandas the grouping columns will be excluded from the operation. Either pass `include_groups=False` to exclude the groupings or explicitly select the grouping columns after groupby to silence this warning.\n",
      "  merged_df = df.groupby('chromosome').apply(merge_group).reset_index(drop=True)\n"
     ]
    },
    {
     "data": {
      "text/plain": "  chromosome     start       end      stat  \\\n0       chr1  30934470  31089474  6.131840   \n1       chr1  36224586  36299587  5.244299   \n\n                                          cycle_file  \n0  /expanse/lustre/projects/csd714/edwin5588/CCLE...  \n1  /expanse/lustre/projects/csd714/edwin5588/CCLE...  ",
      "text/html": "<div>\n<style scoped>\n    .dataframe tbody tr th:only-of-type {\n        vertical-align: middle;\n    }\n\n    .dataframe tbody tr th {\n        vertical-align: top;\n    }\n\n    .dataframe thead th {\n        text-align: right;\n    }\n</style>\n<table border=\"1\" class=\"dataframe\">\n  <thead>\n    <tr style=\"text-align: right;\">\n      <th></th>\n      <th>chromosome</th>\n      <th>start</th>\n      <th>end</th>\n      <th>stat</th>\n      <th>cycle_file</th>\n    </tr>\n  </thead>\n  <tbody>\n    <tr>\n      <th>0</th>\n      <td>chr1</td>\n      <td>30934470</td>\n      <td>31089474</td>\n      <td>6.131840</td>\n      <td>/expanse/lustre/projects/csd714/edwin5588/CCLE...</td>\n    </tr>\n    <tr>\n      <th>1</th>\n      <td>chr1</td>\n      <td>36224586</td>\n      <td>36299587</td>\n      <td>5.244299</td>\n      <td>/expanse/lustre/projects/csd714/edwin5588/CCLE...</td>\n    </tr>\n  </tbody>\n</table>\n</div>"
     },
     "execution_count": 8,
     "metadata": {},
     "output_type": "execute_result"
    }
   ],
   "source": [
    "def merge_intervals(df, range_limit=50000):\n",
    "    def merge_group(group):\n",
    "        group = group.sort_values('start').reset_index(drop=True)\n",
    "        merged_intervals = []\n",
    "\n",
    "        for _, row in group.iterrows():\n",
    "            if not merged_intervals:\n",
    "                merged_intervals.append(row)\n",
    "            else:\n",
    "                last_merged = merged_intervals[-1]\n",
    "                if row['start'] <= last_merged['end'] + range_limit:\n",
    "                    merged_intervals[-1]['end'] = max(last_merged['end'], row['end'])\n",
    "                else:\n",
    "                    merged_intervals.append(row)\n",
    "\n",
    "        return pd.DataFrame(merged_intervals)\n",
    "\n",
    "    merged_df = df.groupby('chromosome').apply(merge_group).reset_index(drop=True)\n",
    "    return merged_df\n",
    "\n",
    "merged_locations_df = merge_intervals(locations, range_limit=500000)\n",
    "merged_locations_df.head(2)\n"
   ]
  },
  {
   "cell_type": "code",
   "execution_count": 9,
   "id": "4f61f08c",
   "metadata": {
    "ExecuteTime": {
     "end_time": "2024-06-04T21:57:33.495307Z",
     "start_time": "2024-06-04T21:57:33.314206Z"
    }
   },
   "outputs": [
    {
     "name": "stdout",
     "output_type": "stream",
     "text": [
      "prefiltering\n",
      "\n",
      "total potential locations: 519\n",
      "{'chr4': 11, 'chr13': 17, 'chrX': 85, 'chr9': 16, 'chr11': 39, 'chr5': 11, 'chr3': 11, 'chr17': 70, 'chr10': 10, 'chr8': 71, 'chr16': 9, 'chr2': 9, 'chr21': 2, 'chr14': 7, 'chr7': 9, 'chr12': 16, 'chr19': 16, 'chr1': 36, 'chr15': 6, 'chr20': 45, 'chr22': 5, 'chr18': 5, 'chr6': 13}\n",
      "-------------------------------------------\n",
      "\n",
      "post filtering\n",
      "\n",
      "total potential locations: 202\n",
      "{'chr4': 9, 'chr13': 9, 'chrX': 14, 'chr9': 9, 'chr11': 9, 'chr5': 10, 'chr3': 10, 'chr17': 17, 'chr10': 7, 'chr8': 5, 'chr16': 6, 'chr2': 9, 'chr21': 2, 'chr14': 6, 'chr7': 9, 'chr12': 12, 'chr19': 8, 'chr1': 21, 'chr15': 6, 'chr20': 6, 'chr22': 5, 'chr18': 4, 'chr6': 9}\n"
     ]
    }
   ],
   "source": [
    "def obtain_stats_locations(locations):\n",
    "    locations.head(3)\n",
    "    # first create set of all chromosomes\n",
    "    chromosomes = set(locations[\"chromosome\"])\n",
    "    # create dictionary \n",
    "    locations_dict = {}\n",
    "    for chrom in chromosomes:\n",
    "        locations_dict[chrom] = []\n",
    "    for i, row in locations.iterrows():\n",
    "        chrom = row[\"chromosome\"]\n",
    "        start = row[\"start\"]\n",
    "        end = row[\"end\"]\n",
    "        locations_dict[chrom].append((start, end))\n",
    "    lengths = {}\n",
    "    for key in locations_dict.keys():\n",
    "        lengths[key] = len(locations_dict[key])\n",
    "    total_locations = sum(len(value) for value in locations_dict.values())\n",
    "    print(f\"total potential locations: {total_locations}\")\n",
    "    print(lengths)\n",
    "print(\"prefiltering\\n\")\n",
    "obtain_stats_locations(locations)\n",
    "print(\"-------------------------------------------\\n\")\n",
    "print(\"post filtering\\n\")\n",
    "obtain_stats_locations(merged_locations_df)"
   ]
  },
  {
   "cell_type": "code",
   "execution_count": 10,
   "id": "cb38729d",
   "metadata": {
    "ExecuteTime": {
     "end_time": "2024-06-04T21:57:50.875539Z",
     "start_time": "2024-06-04T21:57:50.855279Z"
    }
   },
   "outputs": [],
   "source": [
    "# file location -> need to also include the intensity \n",
    "output_bed = r\".\\data\\AA_CCLE_hg38_aggregated_050323/BREAST_filtered_threshold_500000.bed\"\n",
    "merged_locations_df.drop(columns=[\"stat\"]).to_csv(output_bed, header=False, index=False, sep = \"\\t\")"
   ]
  },
  {
   "cell_type": "code",
   "execution_count": null,
   "id": "905cdac2",
   "metadata": {},
   "outputs": [],
   "source": []
  }
 ],
 "metadata": {
  "kernelspec": {
   "display_name": "Python 3 (ipykernel)",
   "language": "python",
   "name": "python3"
  },
  "language_info": {
   "codemirror_mode": {
    "name": "ipython",
    "version": 3
   },
   "file_extension": ".py",
   "mimetype": "text/x-python",
   "name": "python",
   "nbconvert_exporter": "python",
   "pygments_lexer": "ipython3",
   "version": "3.11.5"
  }
 },
 "nbformat": 4,
 "nbformat_minor": 5
}
