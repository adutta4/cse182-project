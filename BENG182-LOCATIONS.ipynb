{
 "cells": [
  {
   "cell_type": "code",
   "execution_count": 44,
   "id": "d571e8f2",
   "metadata": {},
   "outputs": [],
   "source": [
    "import pandas as pd\n",
    "import numpy as np \n",
    "import os \n",
    "import matplotlib.pyplot as plt\n",
    "import shutil\n",
    "import ast"
   ]
  },
  {
   "cell_type": "markdown",
   "id": "bbd7cce6",
   "metadata": {},
   "source": [
    "Preprocessing\n",
    "==="
   ]
  },
  {
   "cell_type": "code",
   "execution_count": 45,
   "id": "6116ce06",
   "metadata": {},
   "outputs": [],
   "source": [
    "directory_path = r\"C:\\Users\\albao\\Downloads\\AA_CCLE_hg38_aggregated_050323\\AA_CCLE_hg38_aggregated_050323\\AA_outputs\"\n",
    "output_path = r\"C:\\Users\\albao\\Downloads\\AA_CCLE_hg38_aggregated_050323/BREAST\"\n",
    "def move_bed_files(directory_path, output_path, cancertype):\n",
    "    os.makedirs(output_path, exist_ok=True)\n",
    "    for directory in os.listdir(directory_path):\n",
    "        if cancertype in directory:\n",
    "            sample_path = os.path.join(directory_path, directory)\n",
    "            for sample in os.listdir(sample_path):\n",
    "                if \".bed\" in sample:\n",
    "                    shutil.copy(os.path.join(sample_path, sample), os.path.join(output_path, sample))\n",
    "move_bed_files(directory_path, output_path, \"BREAST\")                   "
   ]
  },
  {
   "cell_type": "code",
   "execution_count": 46,
   "id": "1153631b",
   "metadata": {},
   "outputs": [
    {
     "data": {
      "text/html": [
       "<div>\n",
       "<style scoped>\n",
       "    .dataframe tbody tr th:only-of-type {\n",
       "        vertical-align: middle;\n",
       "    }\n",
       "\n",
       "    .dataframe tbody tr th {\n",
       "        vertical-align: top;\n",
       "    }\n",
       "\n",
       "    .dataframe thead th {\n",
       "        text-align: right;\n",
       "    }\n",
       "</style>\n",
       "<table border=\"1\" class=\"dataframe\">\n",
       "  <thead>\n",
       "    <tr style=\"text-align: right;\">\n",
       "      <th></th>\n",
       "      <th>chromosome</th>\n",
       "      <th>start</th>\n",
       "      <th>end</th>\n",
       "      <th>stat</th>\n",
       "      <th>cycle_file</th>\n",
       "    </tr>\n",
       "  </thead>\n",
       "  <tbody>\n",
       "    <tr>\n",
       "      <th>0</th>\n",
       "      <td>chr3</td>\n",
       "      <td>37936027</td>\n",
       "      <td>38301037</td>\n",
       "      <td>4.696643</td>\n",
       "      <td>/expanse/lustre/projects/csd714/edwin5588/CCLE...</td>\n",
       "    </tr>\n",
       "    <tr>\n",
       "      <th>1</th>\n",
       "      <td>chr7</td>\n",
       "      <td>114216157</td>\n",
       "      <td>115016148</td>\n",
       "      <td>7.312990</td>\n",
       "      <td>/expanse/lustre/projects/csd714/edwin5588/CCLE...</td>\n",
       "    </tr>\n",
       "  </tbody>\n",
       "</table>\n",
       "</div>"
      ],
      "text/plain": [
       "  chromosome      start        end      stat  \\\n",
       "0       chr3   37936027   38301037  4.696643   \n",
       "1       chr7  114216157  115016148  7.312990   \n",
       "\n",
       "                                          cycle_file  \n",
       "0  /expanse/lustre/projects/csd714/edwin5588/CCLE...  \n",
       "1  /expanse/lustre/projects/csd714/edwin5588/CCLE...  "
      ]
     },
     "execution_count": 46,
     "metadata": {},
     "output_type": "execute_result"
    }
   ],
   "source": [
    "# obtain the different types:\n",
    "locations = pd.DataFrame()\n",
    "for file in os.listdir(output_path):\n",
    "    try:\n",
    "        temp = pd.read_csv(os.path.join(output_path, file), sep = \"\\t\", names = ['chromosome', 'start', 'end', 'stat', 'cycle_file'])\n",
    "        locations = pd.concat([locations, temp])\n",
    "    except Exception as e:\n",
    "        print(e)\n",
    "locations.head(2)"
   ]
  },
  {
   "cell_type": "code",
   "execution_count": 47,
   "id": "249bf726",
   "metadata": {},
   "outputs": [
    {
     "data": {
      "text/html": [
       "<div>\n",
       "<style scoped>\n",
       "    .dataframe tbody tr th:only-of-type {\n",
       "        vertical-align: middle;\n",
       "    }\n",
       "\n",
       "    .dataframe tbody tr th {\n",
       "        vertical-align: top;\n",
       "    }\n",
       "\n",
       "    .dataframe thead th {\n",
       "        text-align: right;\n",
       "    }\n",
       "</style>\n",
       "<table border=\"1\" class=\"dataframe\">\n",
       "  <thead>\n",
       "    <tr style=\"text-align: right;\">\n",
       "      <th></th>\n",
       "      <th>Sample name</th>\n",
       "      <th>Classification</th>\n",
       "      <th>All genes</th>\n",
       "      <th>Location</th>\n",
       "      <th>Oncogenes</th>\n",
       "      <th>Captured interval length</th>\n",
       "    </tr>\n",
       "  </thead>\n",
       "  <tbody>\n",
       "    <tr>\n",
       "      <th>23</th>\n",
       "      <td>AU565_BREAST</td>\n",
       "      <td>ecDNA</td>\n",
       "      <td>['ACAA1', 'DLEC1', 'MYD88', 'OXSR1', 'PLCD1', ...</td>\n",
       "      <td>['chr3:37937674-38298744']</td>\n",
       "      <td>['MYD88']</td>\n",
       "      <td>361070.0</td>\n",
       "    </tr>\n",
       "    <tr>\n",
       "      <th>24</th>\n",
       "      <td>AU565_BREAST</td>\n",
       "      <td>ecDNA</td>\n",
       "      <td>['ANXA13', 'ATAD2', 'C8orf76', 'C8orf89', 'CAL...</td>\n",
       "      <td>['chr8:71754758-71754831', 'chr8:71755523-7287...</td>\n",
       "      <td>['HEY1', 'MYC', 'TPD52']</td>\n",
       "      <td>23353056.0</td>\n",
       "    </tr>\n",
       "  </tbody>\n",
       "</table>\n",
       "</div>"
      ],
      "text/plain": [
       "     Sample name Classification  \\\n",
       "23  AU565_BREAST          ecDNA   \n",
       "24  AU565_BREAST          ecDNA   \n",
       "\n",
       "                                            All genes  \\\n",
       "23  ['ACAA1', 'DLEC1', 'MYD88', 'OXSR1', 'PLCD1', ...   \n",
       "24  ['ANXA13', 'ATAD2', 'C8orf76', 'C8orf89', 'CAL...   \n",
       "\n",
       "                                             Location  \\\n",
       "23                         ['chr3:37937674-38298744']   \n",
       "24  ['chr8:71754758-71754831', 'chr8:71755523-7287...   \n",
       "\n",
       "                   Oncogenes  Captured interval length  \n",
       "23                 ['MYD88']                  361070.0  \n",
       "24  ['HEY1', 'MYC', 'TPD52']                23353056.0  "
      ]
     },
     "execution_count": 47,
     "metadata": {},
     "output_type": "execute_result"
    }
   ],
   "source": [
    "aggregated = pd.read_csv(r\"C:\\Users\\albao\\Downloads\\AA_CCLE_hg38_aggregated_050323\\AA_CCLE_hg38_aggregated_050323\\aggregated_results.csv\")\n",
    "aggregated = aggregated[['Sample name', 'Classification', 'All genes', \"Location\", \"Oncogenes\", \"Captured interval length\"]]\n",
    "brCan = aggregated[aggregated['Sample name'].str.contains('BREAST')]\n",
    "\n",
    "#drop rows with NaN in 'Classification' column\n",
    "brCan = brCan.dropna(subset=['Classification'])\n",
    "\n",
    "#filter for ecDNA classifications\n",
    "brCan = brCan[brCan['Classification'].str.contains('ecDNA')]\n",
    "brCan.head(2)"
   ]
  },
  {
   "cell_type": "code",
   "execution_count": 48,
   "id": "df3b04a2",
   "metadata": {},
   "outputs": [
    {
     "name": "stdout",
     "output_type": "stream",
     "text": [
      "84\n",
      "1306\n"
     ]
    },
    {
     "data": {
      "text/plain": [
       "84"
      ]
     },
     "execution_count": 48,
     "metadata": {},
     "output_type": "execute_result"
    }
   ],
   "source": [
    "# obtain set of all oncogenes and genes\n",
    "oncogenes = set()\n",
    "for og_str in np.array(brCan[\"Oncogenes\"]):\n",
    "    if og_str != '[]': \n",
    "        oncogenes.update(ast.literal_eval(og_str))\n",
    "print(len(oncogenes))\n",
    "\n",
    "all_genes = set()\n",
    "for og_str in np.array(brCan[\"All genes\"]):\n",
    "    if og_str != '[]':\n",
    "        all_genes.update(ast.literal_eval(og_str))\n",
    "print(len(all_genes))\n",
    "\n",
    "# oncogenes included within the all genes (sanity check)\n",
    "elements = all_genes.intersection(oncogenes)\n",
    "len(elements)"
   ]
  },
  {
   "cell_type": "markdown",
   "id": "85eb4d08",
   "metadata": {},
   "source": [
    "Obtaining all potential locations\n",
    "==="
   ]
  },
  {
   "cell_type": "code",
   "execution_count": 88,
   "id": "dcab28ad",
   "metadata": {},
   "outputs": [],
   "source": [
    "def merge_intervals(intervals, range_limit = 50000):\n",
    "    if not intervals:\n",
    "        return []\n",
    "    # Sort intervals by the start time\n",
    "    intervals.sort(key=lambda x: x[0])\n",
    "    merged_intervals = [intervals[0]]\n",
    "    \n",
    "    for current in intervals:\n",
    "        last_merged = merged_intervals[-1]\n",
    "        if current[0] <= last_merged[1] + range_limit:\n",
    "            merged_intervals[-1] = (last_merged[0], max(last_merged[1], current[1]))\n",
    "        else:\n",
    "            merged_intervals.append(current)\n",
    "\n",
    "    return merged_intervals\n"
   ]
  },
  {
   "cell_type": "code",
   "execution_count": 98,
   "id": "4f61f08c",
   "metadata": {},
   "outputs": [
    {
     "name": "stdout",
     "output_type": "stream",
     "text": [
      "total potential locations: 519\n",
      "{'chr11': 39, 'chr17': 70, 'chr2': 9, 'chr5': 11, 'chr8': 71, 'chr3': 11, 'chr6': 13, 'chr16': 9, 'chr20': 45, 'chr1': 36, 'chr12': 16, 'chr14': 7, 'chr13': 17, 'chrX': 85, 'chr22': 5, 'chr9': 16, 'chr18': 5, 'chr15': 6, 'chr4': 11, 'chr21': 2, 'chr7': 9, 'chr19': 16, 'chr10': 10}\n"
     ]
    }
   ],
   "source": [
    "locations.head(3)\n",
    "# first create set of all chromosomes\n",
    "chromosomes = set(locations[\"chromosome\"])\n",
    "# create dictionary \n",
    "locations_dict = {}\n",
    "for chrom in chromosomes:\n",
    "    locations_dict[chrom] = []\n",
    "    \n",
    "# now parse original bed files\n",
    "\n",
    "for i, row in locations.iterrows():\n",
    "    chrom = row[\"chromosome\"]\n",
    "    start = row[\"start\"]\n",
    "    end = row[\"end\"]\n",
    "    locations_dict[chrom].append((start, end))\n",
    "lengths = {}\n",
    "for key in locations_dict.keys():\n",
    "    lengths[key] = len(locations_dict[key])\n",
    "total_locations = sum(len(value) for value in locations_dict.values())\n",
    "print(f\"total potential locations: {total_locations}\")\n",
    "print(lengths)"
   ]
  },
  {
   "cell_type": "code",
   "execution_count": 99,
   "id": "cb38729d",
   "metadata": {},
   "outputs": [
    {
     "name": "stdout",
     "output_type": "stream",
     "text": [
      "total potential locations: 202\n",
      "{'chr11': 9, 'chr17': 17, 'chr2': 9, 'chr5': 10, 'chr8': 5, 'chr3': 10, 'chr6': 9, 'chr16': 6, 'chr20': 6, 'chr1': 21, 'chr12': 12, 'chr14': 6, 'chr13': 9, 'chrX': 14, 'chr22': 5, 'chr9': 9, 'chr18': 4, 'chr15': 6, 'chr4': 9, 'chr21': 2, 'chr7': 9, 'chr19': 8, 'chr10': 7}\n"
     ]
    }
   ],
   "source": [
    "for key in locations_dict.keys():\n",
    "    locations_dict[key] = merge_intervals(locations_dict[key], range_limit =500000 )\n",
    "lengths = {}\n",
    "for key in locations_dict.keys():\n",
    "    lengths[key] = len(locations_dict[key])\n",
    "\n",
    "total_locations = sum(len(value) for value in locations_dict.values())\n",
    "print(f\"total potential locations: {total_locations}\")\n",
    "print(lengths)\n"
   ]
  },
  {
   "cell_type": "code",
   "execution_count": null,
   "id": "905cdac2",
   "metadata": {},
   "outputs": [],
   "source": []
  }
 ],
 "metadata": {
  "kernelspec": {
   "display_name": "Python 3 (ipykernel)",
   "language": "python",
   "name": "python3"
  },
  "language_info": {
   "codemirror_mode": {
    "name": "ipython",
    "version": 3
   },
   "file_extension": ".py",
   "mimetype": "text/x-python",
   "name": "python",
   "nbconvert_exporter": "python",
   "pygments_lexer": "ipython3",
   "version": "3.11.5"
  }
 },
 "nbformat": 4,
 "nbformat_minor": 5
}
